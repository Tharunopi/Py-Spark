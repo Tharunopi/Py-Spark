{
 "cells": [
  {
   "cell_type": "code",
   "execution_count": 14,
   "id": "100c2e16",
   "metadata": {},
   "outputs": [],
   "source": [
    "from pyspark.sql import SparkSession\n",
    "from pyspark.ml.feature import VectorAssembler\n",
    "from pyspark.ml.regression import LinearRegression"
   ]
  },
  {
   "cell_type": "code",
   "execution_count": 2,
   "id": "c0a28f2d",
   "metadata": {},
   "outputs": [
    {
     "data": {
      "text/html": [
       "\n",
       "            <div>\n",
       "                <p><b>SparkSession - in-memory</b></p>\n",
       "                \n",
       "        <div>\n",
       "            <p><b>SparkContext</b></p>\n",
       "\n",
       "            <p><a href=\"http://192.168.1.8:4041\">Spark UI</a></p>\n",
       "\n",
       "            <dl>\n",
       "              <dt>Version</dt>\n",
       "                <dd><code>v4.0.0</code></dd>\n",
       "              <dt>Master</dt>\n",
       "                <dd><code>local[*]</code></dd>\n",
       "              <dt>AppName</dt>\n",
       "                <dd><code>5</code></dd>\n",
       "            </dl>\n",
       "        </div>\n",
       "        \n",
       "            </div>\n",
       "        "
      ],
      "text/plain": [
       "<pyspark.sql.session.SparkSession at 0x26f62697a10>"
      ]
     },
     "execution_count": 2,
     "metadata": {},
     "output_type": "execute_result"
    }
   ],
   "source": [
    "spark = SparkSession.builder.appName(\"5\").getOrCreate()\n",
    "spark"
   ]
  },
  {
   "cell_type": "code",
   "execution_count": 4,
   "id": "727abefe",
   "metadata": {},
   "outputs": [
    {
     "name": "stdout",
     "output_type": "stream",
     "text": [
      "+-------+---+----------+------+\n",
      "|   Name|Age|Experience|Salary|\n",
      "+-------+---+----------+------+\n",
      "| Tharun| 31|        10| 30000|\n",
      "| Naveen| 30|         8| 25000|\n",
      "|  Aqeel| 29|         4| 20000|\n",
      "| Aariff| 24|         3| 20000|\n",
      "| Harish| 21|         1| 15000|\n",
      "|Praveen| 23|         2| 18000|\n",
      "+-------+---+----------+------+\n",
      "\n"
     ]
    }
   ],
   "source": [
    "df = spark.read.csv(r\"C:\\Stack overflow\\Py-Spark\\records.csv\", header=True, inferSchema=True)\n",
    "df.show()"
   ]
  },
  {
   "cell_type": "code",
   "execution_count": 7,
   "id": "c87ceb98",
   "metadata": {},
   "outputs": [
    {
     "name": "stdout",
     "output_type": "stream",
     "text": [
      "root\n",
      " |-- Name: string (nullable = true)\n",
      " |-- Age: integer (nullable = true)\n",
      " |-- Experience: integer (nullable = true)\n",
      " |-- Salary: integer (nullable = true)\n",
      "\n"
     ]
    }
   ],
   "source": [
    "df.printSchema()"
   ]
  },
  {
   "cell_type": "code",
   "execution_count": 9,
   "id": "e74e183a",
   "metadata": {},
   "outputs": [],
   "source": [
    "features = VectorAssembler(inputCols=[\"Age\", \"Experience\"], outputCol=\"IndependentFeature\")"
   ]
  },
  {
   "cell_type": "code",
   "execution_count": 11,
   "id": "092163ae",
   "metadata": {},
   "outputs": [],
   "source": [
    "output = features.transform(df)"
   ]
  },
  {
   "cell_type": "code",
   "execution_count": 12,
   "id": "73b9fc26",
   "metadata": {},
   "outputs": [
    {
     "name": "stdout",
     "output_type": "stream",
     "text": [
      "+-------+---+----------+------+------------------+\n",
      "|   Name|Age|Experience|Salary|IndependentFeature|\n",
      "+-------+---+----------+------+------------------+\n",
      "| Tharun| 31|        10| 30000|       [31.0,10.0]|\n",
      "| Naveen| 30|         8| 25000|        [30.0,8.0]|\n",
      "|  Aqeel| 29|         4| 20000|        [29.0,4.0]|\n",
      "| Aariff| 24|         3| 20000|        [24.0,3.0]|\n",
      "| Harish| 21|         1| 15000|        [21.0,1.0]|\n",
      "|Praveen| 23|         2| 18000|        [23.0,2.0]|\n",
      "+-------+---+----------+------+------------------+\n",
      "\n"
     ]
    }
   ],
   "source": [
    "output.show()"
   ]
  },
  {
   "cell_type": "code",
   "execution_count": 13,
   "id": "8acc20c2",
   "metadata": {},
   "outputs": [
    {
     "name": "stdout",
     "output_type": "stream",
     "text": [
      "+------------------+------+\n",
      "|IndependentFeature|Salary|\n",
      "+------------------+------+\n",
      "|       [31.0,10.0]| 30000|\n",
      "|        [30.0,8.0]| 25000|\n",
      "|        [29.0,4.0]| 20000|\n",
      "|        [24.0,3.0]| 20000|\n",
      "|        [21.0,1.0]| 15000|\n",
      "|        [23.0,2.0]| 18000|\n",
      "+------------------+------+\n",
      "\n"
     ]
    }
   ],
   "source": [
    "final = output.select([\"IndependentFeature\", \"Salary\"])\n",
    "final.show()"
   ]
  },
  {
   "cell_type": "code",
   "execution_count": 15,
   "id": "0ef1da46",
   "metadata": {},
   "outputs": [],
   "source": [
    "train, test = final.randomSplit([0.80, 0.20])\n",
    "regressor = LinearRegression(featuresCol=\"IndependentFeature\", labelCol=\"Salary\")\n",
    "regressor = regressor.fit(train)"
   ]
  },
  {
   "cell_type": "code",
   "execution_count": 16,
   "id": "9ae41180",
   "metadata": {},
   "outputs": [
    {
     "data": {
      "text/plain": [
       "DenseVector([-714.2857, 3485.7143])"
      ]
     },
     "execution_count": 16,
     "metadata": {},
     "output_type": "execute_result"
    }
   ],
   "source": [
    "regressor.coefficients"
   ]
  },
  {
   "cell_type": "code",
   "execution_count": 17,
   "id": "ae83b4ec",
   "metadata": {},
   "outputs": [],
   "source": [
    "pred = regressor.evaluate(test)"
   ]
  },
  {
   "cell_type": "code",
   "execution_count": 20,
   "id": "75ca1509",
   "metadata": {},
   "outputs": [
    {
     "name": "stdout",
     "output_type": "stream",
     "text": [
      "+------------------+------+-----------------+\n",
      "|IndependentFeature|Salary|       prediction|\n",
      "+------------------+------+-----------------+\n",
      "|        [30.0,8.0]| 25000|33314.28571428435|\n",
      "|       [31.0,10.0]| 30000|39571.42857142652|\n",
      "+------------------+------+-----------------+\n",
      "\n"
     ]
    }
   ],
   "source": [
    "pred.predictions.show()"
   ]
  },
  {
   "cell_type": "code",
   "execution_count": 21,
   "id": "a4828d03",
   "metadata": {},
   "outputs": [
    {
     "data": {
      "text/plain": [
       "8942.857142855435"
      ]
     },
     "execution_count": 21,
     "metadata": {},
     "output_type": "execute_result"
    }
   ],
   "source": [
    "pred.meanAbsoluteError"
   ]
  },
  {
   "cell_type": "code",
   "execution_count": null,
   "id": "bb408af8",
   "metadata": {},
   "outputs": [],
   "source": []
  }
 ],
 "metadata": {
  "kernelspec": {
   "display_name": "Python 3",
   "language": "python",
   "name": "python3"
  },
  "language_info": {
   "codemirror_mode": {
    "name": "ipython",
    "version": 3
   },
   "file_extension": ".py",
   "mimetype": "text/x-python",
   "name": "python",
   "nbconvert_exporter": "python",
   "pygments_lexer": "ipython3",
   "version": "3.11.4"
  }
 },
 "nbformat": 4,
 "nbformat_minor": 5
}
